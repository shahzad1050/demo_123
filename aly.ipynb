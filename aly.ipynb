{
 "cells": [
  {
   "cell_type": "code",
   "execution_count": 2,
   "metadata": {},
   "outputs": [
    {
     "name": "stdout",
     "output_type": "stream",
     "text": [
      "{'almir', 'faisal', 'ali', 'sajjal', 'kamran', 'shahzad'}\n"
     ]
    }
   ],
   "source": [
    "set = {\"shahzad\",\"ali\",\"faisal\",\"kamran\"}\n",
    "set1 =  {\"almir\",\"sajjal\"}\n",
    "print(set.union(set1))"
   ]
  },
  {
   "cell_type": "code",
   "execution_count": 2,
   "metadata": {},
   "outputs": [
    {
     "name": "stdout",
     "output_type": "stream",
     "text": [
      "<class 'frozenset'>  frozen_set =  frozenset({2, 3, 4, 5, 11})\n"
     ]
    }
   ],
   "source": [
    "frozen_set = frozenset([11, 2, 3, 4, 4, 5])\n",
    "#frozen_set = frozenset(my_set)\n",
    "print(type(frozen_set), \" frozen_set = \", frozen_set)"
   ]
  },
  {
   "cell_type": "code",
   "execution_count": 4,
   "metadata": {},
   "outputs": [
    {
     "name": "stdout",
     "output_type": "stream",
     "text": [
      "<class 'bytearray'>  byte_array =  bytearray(b'ABCE')\n",
      "65\n",
      "A\n",
      "Empty bytearray():  bytearray(b'')\n"
     ]
    }
   ],
   "source": [
    "byte_array: bytearray = bytearray([65, 66, 67, 69]) #65=A, 66=B ....decimal number system\n",
    "print(type(byte_array), \" byte_array = \", byte_array)  # \n",
    "print(byte_array[0])\n",
    "print(chr(byte_array[0]))\n",
    "print(\"Empty bytearray(): \",bytearray())"
   ]
  },
  {
   "cell_type": "code",
   "execution_count": 2,
   "metadata": {},
   "outputs": [
    {
     "name": "stdout",
     "output_type": "stream",
     "text": [
      "Subtraction Assignment: x -= 3        2\n"
     ]
    }
   ],
   "source": [
    "x = 5\n",
    "\n",
    "x -= 3  # Equivalent to x = x - 3\n",
    "print(\"Subtraction Assignment: x -= 3       \",x)  # Output: 5"
   ]
  },
  {
   "cell_type": "code",
   "execution_count": 32,
   "metadata": {},
   "outputs": [
    {
     "name": "stdout",
     "output_type": "stream",
     "text": [
      "shahzad\n",
      "30\n",
      "ali\n",
      "42\n"
     ]
    }
   ],
   "source": [
    "class Student:\n",
    "    def __init__(self,name,age): #constrator\n",
    "    \n",
    "        self.name =name\n",
    "        self.age = age\n",
    "\n",
    "Student1 = Student (\"shahzad\",30)\n",
    "print(Student1.name)\n",
    "print(Student1.age)\n",
    "\n",
    "Student2 = Student(\"ali\",42)\n",
    "print(Student2.name)\n",
    "print(Student2.age)"
   ]
  },
  {
   "cell_type": "code",
   "execution_count": 10,
   "metadata": {},
   "outputs": [
    {
     "name": "stdout",
     "output_type": "stream",
     "text": [
      "shahzad\n",
      "1234\n",
      "shoaib\n"
     ]
    }
   ],
   "source": [
    "class Person:\n",
    "    def __init__(self,user_name,user_age,user_rollno):\n",
    "        self.name = user_name\n",
    "        self.age = user_age\n",
    "        self.__rollno = user_rollno\n",
    "        self.transportation = [\"car\",\"bike\",\"bus\"]\n",
    "\n",
    "    def get_rollno(self):\n",
    "        return self.__rollno\n",
    "# 1 inheritence child ko  verasat  may milna \n",
    "# 2 polymorphism \n",
    "# 3 abstraction: userko otni imformation dena jitni user no cheyah\n",
    "# 4 Encapsulation: MEANS HIDE KARNA ANY ONE CANT REACH example(__rollno)\n",
    "\n",
    "#instance\n",
    "p1 = Person(\"shahzad\",32,1234)\n",
    "print(p1.name)\n",
    "print(p1.get_rollno())\n",
    "\n",
    "person2 = Person(\"shoaib\",23,4321)\n",
    "print(person2.name)\n",
    "\n",
    "\n",
    "\n"
   ]
  },
  {
   "cell_type": "code",
   "execution_count": null,
   "metadata": {},
   "outputs": [
    {
     "name": "stdout",
     "output_type": "stream",
     "text": [
      "9\n"
     ]
    }
   ],
   "source": [
    "class Math:  #polymorphism \n",
    "    def add(self, a, b):\n",
    "        return a + b\n",
    "\n",
    "    def add(self, a, b, c):  # Overloaded method \n",
    "        return a + b + c\n",
    "\n",
    "obj = Math()\n",
    "print(obj.add(2, 3, 4))  # Output: 9\n"
   ]
  },
  {
   "cell_type": "code",
   "execution_count": 22,
   "metadata": {},
   "outputs": [
    {
     "name": "stdout",
     "output_type": "stream",
     "text": [
      "12345\n",
      "shahzad\n",
      "70000.0\n"
     ]
    }
   ],
   "source": [
    "class Person:\n",
    "   def putdata(self):\n",
    "     self.id = int(input(\"enter id\"))\n",
    "     self.name = input(\"enter name\")\n",
    "     self.salary = float(input(\"enter salary\"))\n",
    "        \n",
    "   def display(self):\n",
    "      print(self.id)\n",
    "      print(self.name)\n",
    "      print(self.salary)\n",
    "\n",
    "q = Person()\n",
    "q.putdata()\n",
    "q.display()\n",
    "\n",
    "\n",
    "\n",
    "\n",
    "\n"
   ]
  },
  {
   "cell_type": "code",
   "execution_count": 2,
   "metadata": {},
   "outputs": [
    {
     "name": "stdout",
     "output_type": "stream",
     "text": [
      "119\n"
     ]
    }
   ],
   "source": [
    "numbers = [23,32,64]\n",
    "average = sum(numbers)\n",
    "print(average)"
   ]
  },
  {
   "cell_type": "code",
   "execution_count": 3,
   "metadata": {},
   "outputs": [
    {
     "name": "stdout",
     "output_type": "stream",
     "text": [
      "Age: 45\n"
     ]
    }
   ],
   "source": [
    "class Father:\n",
    "    def __init__(self, age):\n",
    "        self.__age = age  # Private attribute\n",
    "\n",
    "    def show_age(self):  # Method to access private attribute\n",
    "        return f\"Age: {self.__age}\"\n",
    "\n",
    "p1 = Father(45)\n",
    "print(p1.show_age())  # Expected output: \"Age: 45\"\n"
   ]
  },
  {
   "cell_type": "code",
   "execution_count": 3,
   "metadata": {},
   "outputs": [
    {
     "name": "stdout",
     "output_type": "stream",
     "text": [
      "    January 2025\n",
      "Mo Tu We Th Fr Sa Su\n",
      "       1  2  3  4  5\n",
      " 6  7  8  9 10 11 12\n",
      "13 14 15 16 17 18 19\n",
      "20 21 22 23 24 25 26\n",
      "27 28 29 30 31\n",
      "\n"
     ]
    }
   ],
   "source": [
    "import calendar\n",
    "year = 2025\n",
    "month = 1 \n",
    "print(calendar.month(year,month))"
   ]
  },
  {
   "cell_type": "code",
   "execution_count": 2,
   "metadata": {},
   "outputs": [
    {
     "name": "stdout",
     "output_type": "stream",
     "text": [
      "1\n",
      "2\n",
      "3\n",
      "4\n",
      "5\n"
     ]
    }
   ],
   "source": [
    "#   recursion function.  function  ko dobara call karna \n",
    "def show(a):\n",
    "    if(a == 0):\n",
    "       return\n",
    "    show(a-1) \n",
    "    print(a)\n",
    "show(5)\n",
    "    "
   ]
  },
  {
   "cell_type": "code",
   "execution_count": 65,
   "metadata": {},
   "outputs": [
    {
     "name": "stdout",
     "output_type": "stream",
     "text": [
      "11\n",
      "12\n",
      "13\n",
      "14\n",
      "15\n",
      "16\n",
      "17\n",
      "18\n",
      "19\n",
      "20\n"
     ]
    }
   ],
   "source": [
    "# Recursion function function ko dobara call karna\n",
    "\n",
    "def show1(a):\n",
    "    if (a <= 10):\n",
    "        return\n",
    "    show1(a-1)\n",
    "    print(a)\n",
    "show1(20)"
   ]
  },
  {
   "cell_type": "code",
   "execution_count": 24,
   "metadata": {},
   "outputs": [
    {
     "name": "stdout",
     "output_type": "stream",
     "text": [
      "4 welcome gulam\n"
     ]
    }
   ],
   "source": [
    "\n",
    "# enumerate function\n",
    "\n",
    "list = [\"shahzad\",\"ali\",\"faisal\",\"jahanzaib\",\"gulam\"]\n",
    "\n",
    "for index,list in enumerate(list):\n",
    "    if list == \"gulam\":\n",
    "      print(index,\"welcome\",list)\n",
    "    "
   ]
  },
  {
   "cell_type": "code",
   "execution_count": 27,
   "metadata": {},
   "outputs": [
    {
     "name": "stdout",
     "output_type": "stream",
     "text": [
      "4 welcome shoaib\n"
     ]
    }
   ],
   "source": [
    "\n",
    "t = (1, 2, 3, 4, 5, 6,)\n",
    "\n",
    "for index,t in enumerate(t):\n",
    "     if t == 5:\n",
    "       print( index, \"welcome shoaib\")\n"
   ]
  },
  {
   "cell_type": "code",
   "execution_count": 32,
   "metadata": {},
   "outputs": [
    {
     "name": "stdout",
     "output_type": "stream",
     "text": [
      "1 shahzad u pass the exam\n"
     ]
    }
   ],
   "source": [
    "d = {\"name\":\"shahzad\",\n",
    "     \"roll\":56,\n",
    "    \"city\":\"karachi\"}\n",
    "\n",
    "for index, (key, value) in enumerate(d.items()):\n",
    "    if key == \"roll\" and value == 56:\n",
    "      print(index,\"shahzad u pass the exam\")\n",
    "    \n"
   ]
  },
  {
   "cell_type": "code",
   "execution_count": 7,
   "metadata": {},
   "outputs": [
    {
     "name": "stdout",
     "output_type": "stream",
     "text": [
      "zero\n"
     ]
    }
   ],
   "source": [
    "h = 5 \n",
    "h1 = 10\n",
    "\n",
    "print(\"a\") if h == h1  else print(\"helo \") if h > h1 else   print(\"zero\")"
   ]
  },
  {
   "cell_type": "code",
   "execution_count": 15,
   "metadata": {},
   "outputs": [
    {
     "name": "stdout",
     "output_type": "stream",
     "text": [
      "0 apple\n",
      "1 orange\n",
      "2 banana\n",
      "3 stewberry\n"
     ]
    }
   ],
   "source": [
    "furite = [\"apple\",\"orange\",\"banana\",\"stewberry\"]\n",
    "for index,furite in enumerate(furite):\n",
    "    print(index,furite)\n",
    "  "
   ]
  },
  {
   "cell_type": "code",
   "execution_count": 23,
   "metadata": {},
   "outputs": [
    {
     "name": "stdout",
     "output_type": "stream",
     "text": [
      "almir is masoom\n"
     ]
    }
   ],
   "source": [
    "a = 10\n",
    "b = 20\n",
    "print(\"almir is masoom\") if a < b else print(\"aroosh is shetan\")"
   ]
  },
  {
   "cell_type": "code",
   "execution_count": 62,
   "metadata": {},
   "outputs": [
    {
     "name": "stdout",
     "output_type": "stream",
     "text": [
      "0\n",
      "1\n",
      "2\n",
      "3\n",
      "4\n",
      "5\n",
      "6\n",
      "6\n"
     ]
    }
   ],
   "source": [
    "\n",
    "for i in range(7):\n",
    "  print(i)\n",
    "if i == 1:\n",
    "        i = i + 1\n",
    "print(i)"
   ]
  },
  {
   "cell_type": "code",
   "execution_count": 1,
   "metadata": {},
   "outputs": [
    {
     "name": "stdout",
     "output_type": "stream",
     "text": [
      "{'faisal', 'shahzad', 'ali'}\n"
     ]
    }
   ],
   "source": [
    "set = {\"shahzad\",\"ali\",\"faisal\",\"kamran\"}\n",
    "set.remove(\"kamran\")\n",
    "print(set)"
   ]
  },
  {
   "cell_type": "code",
   "execution_count": 50,
   "metadata": {},
   "outputs": [
    {
     "data": {
      "text/plain": [
       "120"
      ]
     },
     "execution_count": 50,
     "metadata": {},
     "output_type": "execute_result"
    }
   ],
   "source": [
    "def foc(n):\n",
    "    if (n == 0):\n",
    "     return  1\n",
    "    else:\n",
    "     return n * foc(n - 1)\n",
    "foc(5)"
   ]
  },
  {
   "cell_type": "code",
   "execution_count": null,
   "metadata": {},
   "outputs": [
    {
     "name": "stdout",
     "output_type": "stream",
     "text": [
      "120\n"
     ]
    }
   ],
   "source": [
    "foc: int = 5  # The number to calculate factorial for\n",
    "result: int = 1  # Initialize result to 1\n",
    "\n",
    "# Loop from 1 to foc (inclusive)\n",
    "for i in range(1, foc + 1 ): \n",
    "    result *= i  # Multiply result by the current number (i)\n",
    "\n",
    "print(result)\n"
   ]
  },
  {
   "cell_type": "code",
   "execution_count": 24,
   "metadata": {},
   "outputs": [
    {
     "name": "stdout",
     "output_type": "stream",
     "text": [
      "120\n"
     ]
    }
   ],
   "source": [
    "fac:int = 5  # is number ka factorial nikalna hai\n",
    "i: int = 1 \n",
    "# result: int = 1\n",
    "while i  <= foc:\n",
    "   i  *= i \n",
    "   i += 1\n",
    "print(result)\n",
    "\n",
    " "
   ]
  },
  {
   "cell_type": "code",
   "execution_count": 5,
   "metadata": {},
   "outputs": [
    {
     "name": "stdout",
     "output_type": "stream",
     "text": [
      "True\n"
     ]
    }
   ],
   "source": [
    "list = [1,2,3,4,5,6,7]\n",
    "list1 = list\n",
    " \n",
    "print(list is list1)"
   ]
  },
  {
   "cell_type": "code",
   "execution_count": 8,
   "metadata": {},
   "outputs": [
    {
     "name": "stdout",
     "output_type": "stream",
     "text": [
      "{'shahzad'}\n"
     ]
    }
   ],
   "source": [
    "set = {\"ali\",\"shahzad\",\"faisal\"}\n",
    "set1 = {\"junaid\",\"shahzad\"}\n",
    "print(set.intersection(set1))"
   ]
  },
  {
   "cell_type": "code",
   "execution_count": null,
   "metadata": {},
   "outputs": [
    {
     "name": "stdout",
     "output_type": "stream",
     "text": [
      "['apple', 'banana', 'mango']\n"
     ]
    }
   ],
   "source": [
    "# list comprehension\n",
    "\n",
    "fruits = [\"apple\", \"banana\", \"cherry\", \"kiwi\", \"mango\"]\n",
    "\n",
    "newlist = [x for x in fruits if \"a\" in x]\n",
    "\n",
    "print(newlist)"
   ]
  },
  {
   "cell_type": "code",
   "execution_count": 49,
   "metadata": {},
   "outputs": [
    {
     "name": "stdout",
     "output_type": "stream",
     "text": [
      "<generator object my_gen at 0x00000161DEEAAA40>\n",
      "apple\n",
      "banana\n"
     ]
    }
   ],
   "source": [
    "\n",
    "# generator\n",
    "fruits = [\"apple\",\"banana\",\"orange\",\"kiwi\"]\n",
    "\n",
    "def my_gen():\n",
    "  for i in fruits:\n",
    "    yield i\n",
    "gen = my_gen()\n",
    "print(gen)\n",
    "print(next(gen))\n",
    "print(next(gen))"
   ]
  },
  {
   "cell_type": "code",
   "execution_count": null,
   "metadata": {},
   "outputs": [
    {
     "name": "stdout",
     "output_type": "stream",
     "text": [
      "welcome shahzad how r u how is your day going \n",
      " welcome shoaib how r u how is your day going\n",
      " welcome sajjad how is your is your day going\n",
      "\"This is for my special friends\n"
     ]
    }
   ],
   "source": [
    "def greet(name,name1,name2):\n",
    "    \"\"\"\"This is for my special friends\"\"\"\n",
    "    print(f\"welcome {name} how r u how is your day going\\n welcome {name1} how r u how is your day going\\n welcome {name2} how is your is your day going\")\n",
    "greet(\"shahzad\",\"shoaib\",\"sajjad\")\n",
    "\n",
    "print(greet.__doc__)\n"
   ]
  },
  {
   "cell_type": "code",
   "execution_count": 2,
   "metadata": {},
   "outputs": [
    {
     "name": "stdout",
     "output_type": "stream",
     "text": [
      "shahzad\n",
      "shoiab\n",
      "faisal\n",
      "ali\n",
      "junaid\n",
      "almir\n",
      "irham\n"
     ]
    }
   ],
   "source": [
    "list = [\"shahzad\",\"shoiab\",\"faisal\",\"ali\",\"junaid\",\"almir\",\"irham\"]\n",
    "for i in list:\n",
    "    print(i)"
   ]
  },
  {
   "cell_type": "code",
   "execution_count": 9,
   "metadata": {},
   "outputs": [
    {
     "name": "stdout",
     "output_type": "stream",
     "text": [
      "name:shahzad\n",
      "rollno:746\n",
      "city:karachi\n"
     ]
    }
   ],
   "source": [
    "dict = {\"name\":\"shahzad\", \"rollno\": 746, \"city\":\"karachi\",}\n",
    "for key, value in dict.items():\n",
    "    print(f\"{key}:{value}\")\n"
   ]
  },
  {
   "cell_type": "code",
   "execution_count": 18,
   "metadata": {},
   "outputs": [
    {
     "name": "stdout",
     "output_type": "stream",
     "text": [
      "shahzad\n",
      "shahzad\n",
      "shoiab\n",
      "faisal\n"
     ]
    },
    {
     "data": {
      "text/plain": [
       "2"
      ]
     },
     "execution_count": 18,
     "metadata": {},
     "output_type": "execute_result"
    }
   ],
   "source": [
    "tuple = (\"shahzad\",\"shahzad\",\"shoiab\",\"faisal\")\n",
    "for i in tuple:\n",
    "    print(i)\n",
    "tuple.count(\"shahzad\")\n"
   ]
  },
  {
   "cell_type": "code",
   "execution_count": 23,
   "metadata": {},
   "outputs": [
    {
     "name": "stdout",
     "output_type": "stream",
     "text": [
      "7 x 1 = 7\n",
      "7 x 2 = 14\n",
      "7 x 3 = 21\n",
      "7 x 4 = 28\n",
      "7 x 5 = 35\n",
      "7 x 6 = 42\n",
      "7 x 7 = 49\n",
      "7 x 8 = 56\n",
      "7 x 9 = 63\n",
      "7 x 10 = 70\n"
     ]
    }
   ],
   "source": [
    "user = int(input(\"enter your table number u want to print\"))\n",
    "\n",
    "for i in range(1,11):\n",
    "   print(f\"{user} x {i} = {user * i}\")\n"
   ]
  },
  {
   "cell_type": "code",
   "execution_count": 1,
   "metadata": {},
   "outputs": [
    {
     "name": "stdout",
     "output_type": "stream",
     "text": [
      "4 x 1 = 4\n",
      "4 x 2 = 8\n",
      "4 x 3 = 12\n",
      "4 x 4 = 16\n",
      "4 x 5 = 20\n",
      "4 x 6 = 24\n",
      "4 x 7 = 28\n",
      "4 x 8 = 32\n",
      "4 x 9 = 36\n",
      "4 x 10 = 40\n"
     ]
    }
   ],
   "source": [
    "user = int(input(\"enter your number\"))\n",
    "a = 1 \n",
    "while a <= 10:\n",
    "     print(f\"{user} x {a} = {user * a}\")\n",
    "     a = a + 1\n"
   ]
  },
  {
   "cell_type": "code",
   "execution_count": 9,
   "metadata": {},
   "outputs": [
    {
     "name": "stdout",
     "output_type": "stream",
     "text": [
      "{'faisal', 'shahzad', 'ali', 'kamran'}\n",
      "{'faisal', 'shahzad', 'ali', 'kamran'}\n"
     ]
    }
   ],
   "source": [
    "set = {\"shahzad\",\"ali\",\"faisal\",\"kamran\"}\n",
    "set1=set.copy()\n",
    "print(set)\n",
    "print(set1)"
   ]
  },
  {
   "cell_type": "code",
   "execution_count": 10,
   "metadata": {},
   "outputs": [
    {
     "name": "stdout",
     "output_type": "stream",
     "text": [
      "set()\n"
     ]
    }
   ],
   "source": [
    "set = {\"shahzad\",\"ali\",\"faisal\",\"kamran\"}\n",
    "set.clear()\n",
    "print(set)"
   ]
  },
  {
   "cell_type": "code",
   "execution_count": 11,
   "metadata": {},
   "outputs": [
    {
     "name": "stdout",
     "output_type": "stream",
     "text": [
      "{'shahzad', 'ali', 'kamran'}\n"
     ]
    }
   ],
   "source": [
    "set = {\"shahzad\",\"ali\",\"faisal\",\"kamran\"}\n",
    "set.pop()\n",
    "print(set)"
   ]
  },
  {
   "cell_type": "code",
   "execution_count": 12,
   "metadata": {},
   "outputs": [
    {
     "name": "stdout",
     "output_type": "stream",
     "text": [
      "{'faisal', 'shahzad', 'kamran'}\n"
     ]
    }
   ],
   "source": [
    "set = {\"shahzad\",\"ali\",\"faisal\",\"kamran\"}\n",
    "set.discard(\"ali\")\n",
    "print(set)"
   ]
  },
  {
   "cell_type": "code",
   "execution_count": 13,
   "metadata": {},
   "outputs": [
    {
     "name": "stdout",
     "output_type": "stream",
     "text": [
      "{'faisal', 'shahzad', 'ali', 'kamran'}\n"
     ]
    }
   ],
   "source": [
    "set = {\"shahzad\",\"ali\",\"faisal\"}\n",
    "set.add(\"kamran\")\n",
    "print(set)"
   ]
  },
  {
   "cell_type": "markdown",
   "metadata": {},
   "source": [
    "google colab\n"
   ]
  }
 ],
 "metadata": {
  "kernelspec": {
   "display_name": "Python 3",
   "language": "python",
   "name": "python3"
  },
  "language_info": {
   "codemirror_mode": {
    "name": "ipython",
    "version": 3
   },
   "file_extension": ".py",
   "mimetype": "text/x-python",
   "name": "python",
   "nbconvert_exporter": "python",
   "pygments_lexer": "ipython3",
   "version": "3.13.3"
  }
 },
 "nbformat": 4,
 "nbformat_minor": 2
}
