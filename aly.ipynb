{
 "cells": [
  {
   "cell_type": "code",
   "execution_count": 6,
   "metadata": {},
   "outputs": [
    {
     "name": "stdout",
     "output_type": "stream",
     "text": [
      "{'sajjal', 'kamran', 'ali', 'almir', 'faisal', 'shahzad'}\n"
     ]
    }
   ],
   "source": [
    "set = {\"shahzad\",\"ali\",\"faisal\",\"kamran\"}\n",
    "set1 =  {\"almir\",\"sajjal\"}\n",
    "print(set.union(set1))"
   ]
  },
  {
   "cell_type": "code",
   "execution_count": 5,
   "metadata": {},
   "outputs": [
    {
     "name": "stdout",
     "output_type": "stream",
     "text": [
      "welcome gulam\n"
     ]
    }
   ],
   "source": [
    "\n",
    "# enumerate function\n",
    "\n",
    "list = [\"shahzad\",\"ali\",\"faisal\",\"jahanzaib\",\"gulam\"]\n",
    "\n",
    "for index,list in enumerate(list):\n",
    "    if list == \"gulam\":\n",
    "      print(\"welcome\",list)\n",
    "    "
   ]
  },
  {
   "cell_type": "code",
   "execution_count": 18,
   "metadata": {},
   "outputs": [
    {
     "name": "stdout",
     "output_type": "stream",
     "text": [
      "4 welcome shoaib\n"
     ]
    }
   ],
   "source": [
    "\n",
    "t = (1, 2, 3, 4, 5, 6,)\n",
    "\n",
    "for index,t in enumerate(t):\n",
    "     if t == 5:\n",
    "       print( index, \"welcome shoaib\")\n"
   ]
  },
  {
   "cell_type": "code",
   "execution_count": 32,
   "metadata": {},
   "outputs": [
    {
     "name": "stdout",
     "output_type": "stream",
     "text": [
      "1 shahzad u pass the exam\n"
     ]
    }
   ],
   "source": [
    "d = {\"name\":\"shahzad\",\n",
    "     \"roll\":56,\n",
    "    \"city\":\"karachi\"}\n",
    "\n",
    "for index, (key, value) in enumerate(d.items()):\n",
    "    if key == \"roll\" and value == 56:\n",
    "      print(index,\"shahzad u pass the exam\")\n",
    "    \n"
   ]
  },
  {
   "cell_type": "code",
   "execution_count": 7,
   "metadata": {},
   "outputs": [
    {
     "name": "stdout",
     "output_type": "stream",
     "text": [
      "zero\n"
     ]
    }
   ],
   "source": [
    "h = 5 \n",
    "h1 = 10\n",
    "\n",
    "print(\"a\") if h == h1  else print(\"helo \") if h > h1 else   print(\"zero\")"
   ]
  },
  {
   "cell_type": "code",
   "execution_count": 15,
   "metadata": {},
   "outputs": [
    {
     "name": "stdout",
     "output_type": "stream",
     "text": [
      "0 apple\n",
      "1 orange\n",
      "2 banana\n",
      "3 stewberry\n"
     ]
    }
   ],
   "source": [
    "furite = [\"apple\",\"orange\",\"banana\",\"stewberry\"]\n",
    "for index,furite in enumerate(furite):\n",
    "    print(index,furite)\n",
    "  "
   ]
  },
  {
   "cell_type": "code",
   "execution_count": 23,
   "metadata": {},
   "outputs": [
    {
     "name": "stdout",
     "output_type": "stream",
     "text": [
      "almir is masoom\n"
     ]
    }
   ],
   "source": [
    "a = 10\n",
    "b = 20\n",
    "print(\"almir is masoom\") if a < b else print(\"aroosh is shetan\")"
   ]
  },
  {
   "cell_type": "code",
   "execution_count": 7,
   "metadata": {},
   "outputs": [
    {
     "name": "stdout",
     "output_type": "stream",
     "text": [
      "{'faisal', 'shahzad', 'ali'}\n"
     ]
    }
   ],
   "source": [
    "set = {\"shahzad\",\"ali\",\"faisal\",\"kamran\"}\n",
    "set.remove(\"kamran\")\n",
    "print(set)"
   ]
  },
  {
   "cell_type": "code",
   "execution_count": 8,
   "metadata": {},
   "outputs": [
    {
     "name": "stdout",
     "output_type": "stream",
     "text": [
      "{'shahzad'}\n"
     ]
    }
   ],
   "source": [
    "set = {\"ali\",\"shahzad\",\"faisal\"}\n",
    "set1 = {\"junaid\",\"shahzad\"}\n",
    "print(set.intersection(set1))"
   ]
  },
  {
   "cell_type": "code",
   "execution_count": null,
   "metadata": {},
   "outputs": [
    {
     "name": "stdout",
     "output_type": "stream",
     "text": [
      "welcome shahzad how r u how is your day going \n",
      " welcome shoaib how r u how is your day going\n",
      " welcome sajjad how is your is your day going\n",
      "\"This is for my special friends\n"
     ]
    }
   ],
   "source": [
    "def greet(name,name1,name2):\n",
    "    \"\"\"\"This is for my special friends\"\"\"\n",
    "    print(f\"welcome {name} how r u how is your day going\\n welcome {name1} how r u how is your day going\\n welcome {name2} how is your is your day going\")\n",
    "greet(\"shahzad\",\"shoaib\",\"sajjad\")\n",
    "\n",
    "print(greet.__doc__)\n"
   ]
  },
  {
   "cell_type": "code",
   "execution_count": 2,
   "metadata": {},
   "outputs": [
    {
     "name": "stdout",
     "output_type": "stream",
     "text": [
      "shahzad\n",
      "shoiab\n",
      "faisal\n",
      "ali\n",
      "junaid\n",
      "almir\n",
      "irham\n"
     ]
    }
   ],
   "source": [
    "list = [\"shahzad\",\"shoiab\",\"faisal\",\"ali\",\"junaid\",\"almir\",\"irham\"]\n",
    "for i in list:\n",
    "    print(i)"
   ]
  },
  {
   "cell_type": "code",
   "execution_count": 9,
   "metadata": {},
   "outputs": [
    {
     "name": "stdout",
     "output_type": "stream",
     "text": [
      "name:shahzad\n",
      "rollno:746\n",
      "city:karachi\n"
     ]
    }
   ],
   "source": [
    "dict = {\"name\":\"shahzad\", \"rollno\": 746, \"city\":\"karachi\",}\n",
    "for key, value in dict.items():\n",
    "    print(f\"{key}:{value}\")\n"
   ]
  },
  {
   "cell_type": "code",
   "execution_count": 18,
   "metadata": {},
   "outputs": [
    {
     "name": "stdout",
     "output_type": "stream",
     "text": [
      "shahzad\n",
      "shahzad\n",
      "shoiab\n",
      "faisal\n"
     ]
    },
    {
     "data": {
      "text/plain": [
       "2"
      ]
     },
     "execution_count": 18,
     "metadata": {},
     "output_type": "execute_result"
    }
   ],
   "source": [
    "tuple = (\"shahzad\",\"shahzad\",\"shoiab\",\"faisal\")\n",
    "for i in tuple:\n",
    "    print(i)\n",
    "tuple.count(\"shahzad\")\n"
   ]
  },
  {
   "cell_type": "code",
   "execution_count": 23,
   "metadata": {},
   "outputs": [
    {
     "name": "stdout",
     "output_type": "stream",
     "text": [
      "7 x 1 = 7\n",
      "7 x 2 = 14\n",
      "7 x 3 = 21\n",
      "7 x 4 = 28\n",
      "7 x 5 = 35\n",
      "7 x 6 = 42\n",
      "7 x 7 = 49\n",
      "7 x 8 = 56\n",
      "7 x 9 = 63\n",
      "7 x 10 = 70\n"
     ]
    }
   ],
   "source": [
    "user = int(input(\"enter your table number u want to print\"))\n",
    "\n",
    "for i in range(1,11):\n",
    "   print(f\"{user} x {i} = {user * i}\")\n"
   ]
  },
  {
   "cell_type": "code",
   "execution_count": 1,
   "metadata": {},
   "outputs": [
    {
     "name": "stdout",
     "output_type": "stream",
     "text": [
      "4 x 1 = 4\n",
      "4 x 2 = 8\n",
      "4 x 3 = 12\n",
      "4 x 4 = 16\n",
      "4 x 5 = 20\n",
      "4 x 6 = 24\n",
      "4 x 7 = 28\n",
      "4 x 8 = 32\n",
      "4 x 9 = 36\n",
      "4 x 10 = 40\n"
     ]
    }
   ],
   "source": [
    "user = int(input(\"enter your number\"))\n",
    "a = 1 \n",
    "while a <= 10:\n",
    "     print(f\"{user} x {a} = {user * a}\")\n",
    "     a = a + 1\n"
   ]
  },
  {
   "cell_type": "code",
   "execution_count": 9,
   "metadata": {},
   "outputs": [
    {
     "name": "stdout",
     "output_type": "stream",
     "text": [
      "{'faisal', 'shahzad', 'ali', 'kamran'}\n",
      "{'faisal', 'shahzad', 'ali', 'kamran'}\n"
     ]
    }
   ],
   "source": [
    "set = {\"shahzad\",\"ali\",\"faisal\",\"kamran\"}\n",
    "set1=set.copy()\n",
    "print(set)\n",
    "print(set1)"
   ]
  },
  {
   "cell_type": "code",
   "execution_count": 10,
   "metadata": {},
   "outputs": [
    {
     "name": "stdout",
     "output_type": "stream",
     "text": [
      "set()\n"
     ]
    }
   ],
   "source": [
    "set = {\"shahzad\",\"ali\",\"faisal\",\"kamran\"}\n",
    "set.clear()\n",
    "print(set)"
   ]
  },
  {
   "cell_type": "code",
   "execution_count": 11,
   "metadata": {},
   "outputs": [
    {
     "name": "stdout",
     "output_type": "stream",
     "text": [
      "{'shahzad', 'ali', 'kamran'}\n"
     ]
    }
   ],
   "source": [
    "set = {\"shahzad\",\"ali\",\"faisal\",\"kamran\"}\n",
    "set.pop()\n",
    "print(set)"
   ]
  },
  {
   "cell_type": "code",
   "execution_count": 12,
   "metadata": {},
   "outputs": [
    {
     "name": "stdout",
     "output_type": "stream",
     "text": [
      "{'faisal', 'shahzad', 'kamran'}\n"
     ]
    }
   ],
   "source": [
    "set = {\"shahzad\",\"ali\",\"faisal\",\"kamran\"}\n",
    "set.discard(\"ali\")\n",
    "print(set)"
   ]
  },
  {
   "cell_type": "code",
   "execution_count": 13,
   "metadata": {},
   "outputs": [
    {
     "name": "stdout",
     "output_type": "stream",
     "text": [
      "{'faisal', 'shahzad', 'ali', 'kamran'}\n"
     ]
    }
   ],
   "source": [
    "set = {\"shahzad\",\"ali\",\"faisal\"}\n",
    "set.add(\"kamran\")\n",
    "print(set)"
   ]
  },
  {
   "cell_type": "markdown",
   "metadata": {},
   "source": [
    "google colab\n"
   ]
  }
 ],
 "metadata": {
  "kernelspec": {
   "display_name": "Python 3",
   "language": "python",
   "name": "python3"
  },
  "language_info": {
   "codemirror_mode": {
    "name": "ipython",
    "version": 3
   },
   "file_extension": ".py",
   "mimetype": "text/x-python",
   "name": "python",
   "nbconvert_exporter": "python",
   "pygments_lexer": "ipython3",
   "version": "3.13.1"
  }
 },
 "nbformat": 4,
 "nbformat_minor": 2
}
